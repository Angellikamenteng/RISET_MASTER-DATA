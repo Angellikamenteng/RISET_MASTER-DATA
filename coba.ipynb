{
 "cells": [
  {
   "cell_type": "code",
   "execution_count": 60,
   "id": "d78fff0d",
   "metadata": {},
   "outputs": [],
   "source": [
    "import pandas as pandas\n",
    "import datetime\n",
    "import pandas as pd\n",
    "from datetime import date, timedelta\n",
    "import matplotlib.pyplot as plt \n",
    "plt.style.use('fivethirtyeight')\n",
    "from statsmodels.tsa.seasonal import seasonal_decompose\n",
    "from statsmodels.tsa.arima_model import ARIMA \n",
    "from statsmodels.graphics.tsaplots import plot_pacf\n",
    "import statsmodels.api as sm \n",
    "import warnings"
   ]
  },
  {
   "cell_type": "code",
   "execution_count": 61,
   "id": "54e191cb",
   "metadata": {},
   "outputs": [
    {
     "name": "stdout",
     "output_type": "stream",
     "text": [
      "  Kabupaten  Tahun  Produksi  Luas Panen  Curah Hujan  Kelembapan  \\\n",
      "0     Toili   2004   1449671      359817         2400        84.0   \n",
      "1     Toili   2005   1429440      336765         2410        83.9   \n",
      "2     Toili   2006   1550548      295212         2420        83.8   \n",
      "3     Toili   2007   1718193      315131         2430        83.7   \n",
      "4     Toili   2008   1522556      367636         2440        83.6   \n",
      "\n",
      "   Suhu rata-rata  \n",
      "0           26.40  \n",
      "1           26.41  \n",
      "2           26.42  \n",
      "3           26.43  \n",
      "4           26.44  \n"
     ]
    }
   ],
   "source": [
    "data = pd.read_excel('data skripsi.xlsx')\n",
    "print(data.head())"
   ]
  },
  {
   "cell_type": "code",
   "execution_count": 62,
   "id": "366abbf8",
   "metadata": {},
   "outputs": [
    {
     "data": {
      "application/vnd.plotly.v1+json": {
       "config": {
        "plotlyServerURL": "https://plot.ly"
       },
       "data": [
        {
         "hovertemplate": "Tahun=%{x}<br>Produksi=%{y}<extra></extra>",
         "legendgroup": "",
         "line": {
          "color": "#636efa",
          "dash": "solid"
         },
         "marker": {
          "symbol": "circle"
         },
         "mode": "lines",
         "name": "",
         "orientation": "v",
         "showlegend": false,
         "type": "scatter",
         "x": [
          2004,
          2005,
          2006,
          2007,
          2008,
          2009,
          2010,
          2011,
          2012,
          2013,
          2014,
          2015,
          2016,
          2017,
          2018,
          2019,
          2020,
          2021,
          2022,
          2023,
          2024,
          2025,
          2004,
          2005,
          2006,
          2007,
          2008,
          2009,
          2010,
          2011,
          2012,
          2013,
          2014,
          2015,
          2016,
          2017,
          2018,
          2019,
          2020,
          2021,
          2022,
          2023,
          2024,
          2025,
          2004,
          2005,
          2006,
          2007,
          2008,
          2009,
          2010,
          2011,
          2012,
          2013,
          2014,
          2015,
          2016,
          2017,
          2018,
          2019,
          2020,
          2021,
          2022,
          2023,
          2024,
          2025,
          2004,
          2005,
          2006,
          2007,
          2008,
          2009,
          2010,
          2011,
          2012,
          2013,
          2014,
          2015,
          2016,
          2017,
          2018,
          2019,
          2022,
          2021,
          2020,
          2023,
          2024,
          2025,
          2004,
          2005,
          2006,
          2007,
          2008,
          2009,
          2010,
          2011,
          2012,
          2013,
          2014,
          2015,
          2016,
          2017,
          2018,
          2019,
          2020,
          2021,
          2022,
          2023,
          2024,
          2025,
          2004,
          2005,
          2006,
          2007,
          2008,
          2009,
          2010,
          2011,
          2012,
          2013,
          2014,
          2015,
          2016,
          2017,
          2018,
          2019,
          2020,
          2021,
          2022,
          2023,
          2024,
          2025,
          2004,
          2005,
          2006,
          2007,
          2008,
          2009,
          2010,
          2011,
          2012,
          2013,
          2014,
          2015,
          2016,
          2017,
          2018,
          2019,
          2020,
          2021,
          2022,
          2023,
          2024,
          2025,
          2004,
          2005,
          2006,
          2007,
          2008,
          2009,
          2010,
          2011,
          2012,
          2013,
          2014,
          2015,
          2016,
          2017,
          2018,
          2019,
          2020,
          2021,
          2022,
          2023,
          2024,
          2025,
          2004,
          2005,
          2006,
          2007,
          2008,
          2009,
          2010,
          2011,
          2012,
          2013,
          2014,
          2015,
          2016,
          2017,
          2018,
          2019,
          2020,
          2021,
          2022,
          2023,
          2024,
          2025,
          2004,
          2005,
          2006,
          2007,
          2008,
          2009,
          2010,
          2011,
          2012,
          2013,
          2014,
          2015,
          2016,
          2017,
          2018,
          2019,
          2020,
          2021,
          2022,
          2023,
          2024,
          2025,
          2004,
          2005,
          2006,
          2007,
          2008,
          2009,
          2010,
          2011,
          2012,
          2013,
          2014,
          2015,
          2016,
          2017,
          2018,
          2019,
          2020,
          2021,
          2022,
          2023,
          2024,
          2025,
          2004,
          2005,
          2006,
          2007,
          2008,
          2009,
          2010,
          2011,
          2012,
          2013,
          2014,
          2015,
          2016,
          2017,
          2018,
          2019,
          2020,
          2021,
          2022,
          2023,
          2024,
          2025,
          2004,
          2005,
          2006,
          2007,
          2008,
          2009,
          2010,
          2011,
          2012,
          2013,
          2014,
          2015,
          2016,
          2017,
          2018,
          2019,
          2020,
          2021,
          2022,
          2023,
          2024,
          2025,
          2004,
          2005,
          2006,
          2007,
          2008,
          2009,
          2010,
          2011,
          2012,
          2013,
          2014,
          2015,
          2016,
          2017,
          2018,
          2019,
          2020,
          2021,
          2022,
          2023,
          2024,
          2025,
          2004,
          2005,
          2006,
          2007,
          2008,
          2009,
          2010,
          2011,
          2012,
          2013,
          2014,
          2015,
          2016,
          2017,
          2018,
          2019,
          2020,
          2021,
          2022,
          2023,
          2024,
          2025,
          2004,
          2005,
          2006,
          2007,
          2008,
          2009,
          2010,
          2011,
          2012,
          2013,
          2014,
          2015,
          2016,
          2017,
          2018,
          2019,
          2020,
          2021,
          2022,
          2023,
          2024,
          2025,
          2004,
          2005,
          2006,
          2007,
          2008,
          2009,
          2010,
          2011,
          2012,
          2013,
          2014,
          2015,
          2016,
          2017,
          2018,
          2019,
          2020,
          2021,
          2022,
          2023,
          2024,
          2025,
          2004,
          2005,
          2006,
          2007,
          2008,
          2009,
          2010,
          2011,
          2012,
          2013,
          2014,
          2015,
          2016,
          2017,
          2018,
          2019,
          2020,
          2021,
          2022,
          2023,
          2024,
          2025,
          2004,
          2005,
          2006,
          2007,
          2008,
          2009,
          2010,
          2011,
          2012,
          2013,
          2014,
          2015,
          2016,
          2017,
          2018,
          2019,
          2020,
          2021,
          2022,
          2023,
          2024,
          2025,
          2004,
          2005,
          2006,
          2007,
          2008,
          2009,
          2010,
          2011,
          2012,
          2013,
          2014,
          2015,
          2016,
          2017,
          2018,
          2019,
          2020,
          2021,
          2022,
          2023,
          2024,
          2025,
          2004,
          2005,
          2006,
          2007,
          2008,
          2009,
          2010,
          2011,
          2012,
          2013,
          2014,
          2015,
          2016,
          2017,
          2018,
          2019,
          2020,
          2021,
          2022,
          2023,
          2024,
          2025,
          2004,
          2005,
          2006,
          2007,
          2008,
          2009,
          2010,
          2011,
          2012,
          2013,
          2014,
          2015,
          2016,
          2017,
          2018,
          2019,
          2020,
          2021,
          2022,
          2023,
          2024,
          2025,
          2004,
          2005,
          2006,
          2007,
          2008,
          2009,
          2010,
          2011,
          2012,
          2013,
          2014,
          2015,
          2016,
          2017,
          2018,
          2019,
          2020,
          2021,
          2022,
          2023,
          2024,
          2025
         ],
         "xaxis": "x",
         "y": [
          1449671,
          1429440,
          1550548,
          1718193,
          1522556,
          1617715,
          1812664,
          1722408,
          1646007,
          1743673,
          1665529,
          1658271,
          1716707,
          1539256,
          1527952,
          1701108,
          1686970,
          1863082,
          1765955,
          1748607,
          2110549,
          2007422,
          3451430,
          3631068,
          3350486,
          3376586,
          3580072,
          3504080,
          3720433,
          3185337,
          3394717,
          3426164,
          3602098,
          3599957,
          3568115,
          3594394,
          3669858,
          3461607,
          2895392,
          4308223,
          4552787,
          2142706,
          2010716,
          2076280,
          1897678,
          1689757,
          1676476,
          1995480,
          1880875,
          2018141,
          2008233,
          2048082,
          1967629,
          2008759,
          2169676,
          2205933,
          2237413,
          2270624,
          2330145,
          2454254,
          2471334,
          2372936,
          2726323,
          1444278,
          1468705,
          1450839,
          4616320,
          4439318,
          4431621,
          4216248,
          4182486,
          4445805,
          4710534,
          4413718,
          4411959,
          4958677,
          4945826,
          5353112,
          5627852,
          5279744,
          4822866,
          4252489,
          3652686,
          3669478,
          3079950,
          3198477,
          2718180,
          2308739,
          5536411,
          5412864,
          5749441,
          5813282,
          5975740,
          5879294,
          6133875,
          5765981,
          6103431,
          6067525,
          6456860,
          6211889,
          6267107,
          6027377,
          6320061,
          6445858,
          5040311,
          6044655,
          6473020,
          3767567,
          3004965,
          3743767,
          1789961,
          1918799,
          1831983,
          2073853,
          2212883,
          2428724,
          2462846,
          2646787,
          2839213,
          3050770,
          3163438,
          3328178,
          3311582,
          3143558,
          3642194,
          3536767,
          4150318,
          4716151,
          4562332,
          2933863,
          2541654,
          2696877,
          3815717,
          3732323,
          3974127,
          3955796,
          4494795,
          4422511,
          4675276,
          3968010,
          4909095,
          5031606,
          5256341,
          5235821,
          5129724,
          5771154,
          6032747,
          5785095,
          5680660,
          6194370,
          6986581,
          2748403,
          3004916,
          2926925,
          1801422,
          2011033,
          2130855,
          2007765,
          2045151,
          2315431,
          2274301,
          2223770,
          2440408,
          2439598,
          2695932,
          2772304,
          2861449,
          3066984,
          3103269,
          3219701,
          3549534,
          3776823,
          4084179,
          2490723,
          2136887,
          2604913,
          1329536,
          1283643,
          1365952,
          1429917,
          1421540,
          1417364,
          1483654,
          1505553,
          1559216,
          1369612,
          1266006,
          1281911,
          1367793,
          1438593,
          1459137,
          1339455,
          1457832,
          1682351,
          1677163,
          1483964,
          2253603,
          1820062,
          2918152,
          3117951,
          3225525,
          3267228,
          3412006,
          3414794,
          3536644,
          3648577,
          3361809,
          3223010,
          3322733,
          3369492,
          3353677,
          2871648,
          3057648,
          3133167,
          3353744,
          3417233,
          3385708,
          3571219,
          3626986,
          3631039,
          1806424,
          1797972,
          1885249,
          2052514,
          1852419,
          1949786,
          1978908,
          1820197,
          1747533,
          1883808,
          1808323,
          1834387,
          1892744,
          1838415,
          1913232,
          1855489,
          1997959,
          2150984,
          2214010,
          2338130,
          2404693,
          2519020,
          436297,
          453151,
          465563,
          486543,
          432792,
          383456,
          485314,
          453126,
          433937,
          416183,
          431237,
          451508,
          412881,
          408253,
          471134,
          465369,
          503120,
          552885,
          515028,
          505317,
          426479,
          385475,
          607529,
          555029,
          612974,
          681777,
          612437,
          564289,
          586002,
          569661,
          581434,
          565538,
          578934,
          570045,
          573929,
          514654,
          548405,
          555204,
          618433,
          603302,
          639345,
          599503,
          654375,
          664720,
          1409559,
          1357316,
          1610449,
          1793222,
          1672636,
          2036316,
          1926023,
          1956256,
          1792528,
          1977071,
          1965792,
          2281833,
          2289411,
          2400046,
          2629328,
          2847351,
          2996468,
          3193111,
          3287683,
          3238076,
          3637148,
          3670435,
          356709,
          347240,
          406435,
          433988,
          411494,
          422080,
          411892,
          387686,
          393961,
          397820,
          432368,
          427045,
          450318,
          374140,
          471275,
          472708,
          500958,
          498945,
          500323,
          575420,
          640648,
          593194,
          1646900,
          1570968,
          2018382,
          2068713,
          1795283,
          2043896,
          1905770,
          2014349,
          2033926,
          1971236,
          1956095,
          2038371,
          2106769,
          2050052,
          2231640,
          2186991,
          2478972,
          2699506,
          2856575,
          2982644,
          3147012,
          3320064,
          1820062,
          1962777,
          2200106,
          2544012,
          1841005,
          1806397,
          1938731,
          1377183,
          1311441,
          1357092,
          1433295,
          1366787,
          1360685,
          1410972,
          1410181,
          1429869,
          1220954,
          1170448,
          1270082,
          1321201,
          1491714,
          1556858,
          4044829,
          4550678,
          4836870,
          2254676,
          2267124,
          2323358,
          3122041,
          3195903,
          3305358,
          3173615,
          3327084,
          3294379,
          3430980,
          3448118,
          3250298,
          2969535,
          3276413,
          3342042,
          3387262,
          2946342,
          3271316,
          3340794,
          2550609,
          2496430,
          2850412,
          1524158,
          1559702,
          1506660,
          1866350,
          1766475,
          1841508,
          1978152,
          1722785,
          1798807,
          1847051,
          1666942,
          1582773,
          1721310,
          1718562,
          1720082,
          1834842,
          1797847,
          1842506,
          1965634,
          393917,
          340258,
          357725,
          295327,
          257972,
          288760,
          458962,
          474363,
          480681,
          473907,
          420141,
          373463,
          451717,
          420322,
          406022,
          384538,
          401477,
          438571,
          415511,
          426452,
          492443,
          494260,
          541486,
          651606,
          690566,
          393918,
          334510,
          393405,
          637768,
          569856,
          609028,
          661762,
          564446,
          541998,
          541161,
          517693,
          533475,
          539217,
          553909,
          559947,
          551480,
          515400,
          579299,
          581703,
          4247922,
          4883230,
          4889013,
          3071735,
          2708720,
          2737239,
          1537465,
          1384049,
          1573850,
          1735810,
          1636176,
          1926584,
          1736418,
          1803227,
          1608982,
          1788513,
          1794015,
          2134560,
          2269098,
          2369406,
          2679430,
          2971286,
          1578654,
          1651285,
          1735442,
          1359875,
          1370237,
          1399992,
          1705891,
          1873709,
          1109831,
          1529061,
          1175878,
          1549860,
          1627111,
          1531438,
          1878715,
          1889028,
          1691082,
          1934428,
          1707018,
          1858374,
          1912114,
          1951109
         ],
         "yaxis": "y"
        }
       ],
       "layout": {
        "legend": {
         "tracegroupgap": 0
        },
        "template": {
         "data": {
          "bar": [
           {
            "error_x": {
             "color": "#2a3f5f"
            },
            "error_y": {
             "color": "#2a3f5f"
            },
            "marker": {
             "line": {
              "color": "#E5ECF6",
              "width": 0.5
             },
             "pattern": {
              "fillmode": "overlay",
              "size": 10,
              "solidity": 0.2
             }
            },
            "type": "bar"
           }
          ],
          "barpolar": [
           {
            "marker": {
             "line": {
              "color": "#E5ECF6",
              "width": 0.5
             },
             "pattern": {
              "fillmode": "overlay",
              "size": 10,
              "solidity": 0.2
             }
            },
            "type": "barpolar"
           }
          ],
          "carpet": [
           {
            "aaxis": {
             "endlinecolor": "#2a3f5f",
             "gridcolor": "white",
             "linecolor": "white",
             "minorgridcolor": "white",
             "startlinecolor": "#2a3f5f"
            },
            "baxis": {
             "endlinecolor": "#2a3f5f",
             "gridcolor": "white",
             "linecolor": "white",
             "minorgridcolor": "white",
             "startlinecolor": "#2a3f5f"
            },
            "type": "carpet"
           }
          ],
          "choropleth": [
           {
            "colorbar": {
             "outlinewidth": 0,
             "ticks": ""
            },
            "type": "choropleth"
           }
          ],
          "contour": [
           {
            "colorbar": {
             "outlinewidth": 0,
             "ticks": ""
            },
            "colorscale": [
             [
              0,
              "#0d0887"
             ],
             [
              0.1111111111111111,
              "#46039f"
             ],
             [
              0.2222222222222222,
              "#7201a8"
             ],
             [
              0.3333333333333333,
              "#9c179e"
             ],
             [
              0.4444444444444444,
              "#bd3786"
             ],
             [
              0.5555555555555556,
              "#d8576b"
             ],
             [
              0.6666666666666666,
              "#ed7953"
             ],
             [
              0.7777777777777778,
              "#fb9f3a"
             ],
             [
              0.8888888888888888,
              "#fdca26"
             ],
             [
              1,
              "#f0f921"
             ]
            ],
            "type": "contour"
           }
          ],
          "contourcarpet": [
           {
            "colorbar": {
             "outlinewidth": 0,
             "ticks": ""
            },
            "type": "contourcarpet"
           }
          ],
          "heatmap": [
           {
            "colorbar": {
             "outlinewidth": 0,
             "ticks": ""
            },
            "colorscale": [
             [
              0,
              "#0d0887"
             ],
             [
              0.1111111111111111,
              "#46039f"
             ],
             [
              0.2222222222222222,
              "#7201a8"
             ],
             [
              0.3333333333333333,
              "#9c179e"
             ],
             [
              0.4444444444444444,
              "#bd3786"
             ],
             [
              0.5555555555555556,
              "#d8576b"
             ],
             [
              0.6666666666666666,
              "#ed7953"
             ],
             [
              0.7777777777777778,
              "#fb9f3a"
             ],
             [
              0.8888888888888888,
              "#fdca26"
             ],
             [
              1,
              "#f0f921"
             ]
            ],
            "type": "heatmap"
           }
          ],
          "heatmapgl": [
           {
            "colorbar": {
             "outlinewidth": 0,
             "ticks": ""
            },
            "colorscale": [
             [
              0,
              "#0d0887"
             ],
             [
              0.1111111111111111,
              "#46039f"
             ],
             [
              0.2222222222222222,
              "#7201a8"
             ],
             [
              0.3333333333333333,
              "#9c179e"
             ],
             [
              0.4444444444444444,
              "#bd3786"
             ],
             [
              0.5555555555555556,
              "#d8576b"
             ],
             [
              0.6666666666666666,
              "#ed7953"
             ],
             [
              0.7777777777777778,
              "#fb9f3a"
             ],
             [
              0.8888888888888888,
              "#fdca26"
             ],
             [
              1,
              "#f0f921"
             ]
            ],
            "type": "heatmapgl"
           }
          ],
          "histogram": [
           {
            "marker": {
             "pattern": {
              "fillmode": "overlay",
              "size": 10,
              "solidity": 0.2
             }
            },
            "type": "histogram"
           }
          ],
          "histogram2d": [
           {
            "colorbar": {
             "outlinewidth": 0,
             "ticks": ""
            },
            "colorscale": [
             [
              0,
              "#0d0887"
             ],
             [
              0.1111111111111111,
              "#46039f"
             ],
             [
              0.2222222222222222,
              "#7201a8"
             ],
             [
              0.3333333333333333,
              "#9c179e"
             ],
             [
              0.4444444444444444,
              "#bd3786"
             ],
             [
              0.5555555555555556,
              "#d8576b"
             ],
             [
              0.6666666666666666,
              "#ed7953"
             ],
             [
              0.7777777777777778,
              "#fb9f3a"
             ],
             [
              0.8888888888888888,
              "#fdca26"
             ],
             [
              1,
              "#f0f921"
             ]
            ],
            "type": "histogram2d"
           }
          ],
          "histogram2dcontour": [
           {
            "colorbar": {
             "outlinewidth": 0,
             "ticks": ""
            },
            "colorscale": [
             [
              0,
              "#0d0887"
             ],
             [
              0.1111111111111111,
              "#46039f"
             ],
             [
              0.2222222222222222,
              "#7201a8"
             ],
             [
              0.3333333333333333,
              "#9c179e"
             ],
             [
              0.4444444444444444,
              "#bd3786"
             ],
             [
              0.5555555555555556,
              "#d8576b"
             ],
             [
              0.6666666666666666,
              "#ed7953"
             ],
             [
              0.7777777777777778,
              "#fb9f3a"
             ],
             [
              0.8888888888888888,
              "#fdca26"
             ],
             [
              1,
              "#f0f921"
             ]
            ],
            "type": "histogram2dcontour"
           }
          ],
          "mesh3d": [
           {
            "colorbar": {
             "outlinewidth": 0,
             "ticks": ""
            },
            "type": "mesh3d"
           }
          ],
          "parcoords": [
           {
            "line": {
             "colorbar": {
              "outlinewidth": 0,
              "ticks": ""
             }
            },
            "type": "parcoords"
           }
          ],
          "pie": [
           {
            "automargin": true,
            "type": "pie"
           }
          ],
          "scatter": [
           {
            "fillpattern": {
             "fillmode": "overlay",
             "size": 10,
             "solidity": 0.2
            },
            "type": "scatter"
           }
          ],
          "scatter3d": [
           {
            "line": {
             "colorbar": {
              "outlinewidth": 0,
              "ticks": ""
             }
            },
            "marker": {
             "colorbar": {
              "outlinewidth": 0,
              "ticks": ""
             }
            },
            "type": "scatter3d"
           }
          ],
          "scattercarpet": [
           {
            "marker": {
             "colorbar": {
              "outlinewidth": 0,
              "ticks": ""
             }
            },
            "type": "scattercarpet"
           }
          ],
          "scattergeo": [
           {
            "marker": {
             "colorbar": {
              "outlinewidth": 0,
              "ticks": ""
             }
            },
            "type": "scattergeo"
           }
          ],
          "scattergl": [
           {
            "marker": {
             "colorbar": {
              "outlinewidth": 0,
              "ticks": ""
             }
            },
            "type": "scattergl"
           }
          ],
          "scattermapbox": [
           {
            "marker": {
             "colorbar": {
              "outlinewidth": 0,
              "ticks": ""
             }
            },
            "type": "scattermapbox"
           }
          ],
          "scatterpolar": [
           {
            "marker": {
             "colorbar": {
              "outlinewidth": 0,
              "ticks": ""
             }
            },
            "type": "scatterpolar"
           }
          ],
          "scatterpolargl": [
           {
            "marker": {
             "colorbar": {
              "outlinewidth": 0,
              "ticks": ""
             }
            },
            "type": "scatterpolargl"
           }
          ],
          "scatterternary": [
           {
            "marker": {
             "colorbar": {
              "outlinewidth": 0,
              "ticks": ""
             }
            },
            "type": "scatterternary"
           }
          ],
          "surface": [
           {
            "colorbar": {
             "outlinewidth": 0,
             "ticks": ""
            },
            "colorscale": [
             [
              0,
              "#0d0887"
             ],
             [
              0.1111111111111111,
              "#46039f"
             ],
             [
              0.2222222222222222,
              "#7201a8"
             ],
             [
              0.3333333333333333,
              "#9c179e"
             ],
             [
              0.4444444444444444,
              "#bd3786"
             ],
             [
              0.5555555555555556,
              "#d8576b"
             ],
             [
              0.6666666666666666,
              "#ed7953"
             ],
             [
              0.7777777777777778,
              "#fb9f3a"
             ],
             [
              0.8888888888888888,
              "#fdca26"
             ],
             [
              1,
              "#f0f921"
             ]
            ],
            "type": "surface"
           }
          ],
          "table": [
           {
            "cells": {
             "fill": {
              "color": "#EBF0F8"
             },
             "line": {
              "color": "white"
             }
            },
            "header": {
             "fill": {
              "color": "#C8D4E3"
             },
             "line": {
              "color": "white"
             }
            },
            "type": "table"
           }
          ]
         },
         "layout": {
          "annotationdefaults": {
           "arrowcolor": "#2a3f5f",
           "arrowhead": 0,
           "arrowwidth": 1
          },
          "autotypenumbers": "strict",
          "coloraxis": {
           "colorbar": {
            "outlinewidth": 0,
            "ticks": ""
           }
          },
          "colorscale": {
           "diverging": [
            [
             0,
             "#8e0152"
            ],
            [
             0.1,
             "#c51b7d"
            ],
            [
             0.2,
             "#de77ae"
            ],
            [
             0.3,
             "#f1b6da"
            ],
            [
             0.4,
             "#fde0ef"
            ],
            [
             0.5,
             "#f7f7f7"
            ],
            [
             0.6,
             "#e6f5d0"
            ],
            [
             0.7,
             "#b8e186"
            ],
            [
             0.8,
             "#7fbc41"
            ],
            [
             0.9,
             "#4d9221"
            ],
            [
             1,
             "#276419"
            ]
           ],
           "sequential": [
            [
             0,
             "#0d0887"
            ],
            [
             0.1111111111111111,
             "#46039f"
            ],
            [
             0.2222222222222222,
             "#7201a8"
            ],
            [
             0.3333333333333333,
             "#9c179e"
            ],
            [
             0.4444444444444444,
             "#bd3786"
            ],
            [
             0.5555555555555556,
             "#d8576b"
            ],
            [
             0.6666666666666666,
             "#ed7953"
            ],
            [
             0.7777777777777778,
             "#fb9f3a"
            ],
            [
             0.8888888888888888,
             "#fdca26"
            ],
            [
             1,
             "#f0f921"
            ]
           ],
           "sequentialminus": [
            [
             0,
             "#0d0887"
            ],
            [
             0.1111111111111111,
             "#46039f"
            ],
            [
             0.2222222222222222,
             "#7201a8"
            ],
            [
             0.3333333333333333,
             "#9c179e"
            ],
            [
             0.4444444444444444,
             "#bd3786"
            ],
            [
             0.5555555555555556,
             "#d8576b"
            ],
            [
             0.6666666666666666,
             "#ed7953"
            ],
            [
             0.7777777777777778,
             "#fb9f3a"
            ],
            [
             0.8888888888888888,
             "#fdca26"
            ],
            [
             1,
             "#f0f921"
            ]
           ]
          },
          "colorway": [
           "#636efa",
           "#EF553B",
           "#00cc96",
           "#ab63fa",
           "#FFA15A",
           "#19d3f3",
           "#FF6692",
           "#B6E880",
           "#FF97FF",
           "#FECB52"
          ],
          "font": {
           "color": "#2a3f5f"
          },
          "geo": {
           "bgcolor": "white",
           "lakecolor": "white",
           "landcolor": "#E5ECF6",
           "showlakes": true,
           "showland": true,
           "subunitcolor": "white"
          },
          "hoverlabel": {
           "align": "left"
          },
          "hovermode": "closest",
          "mapbox": {
           "style": "light"
          },
          "paper_bgcolor": "white",
          "plot_bgcolor": "#E5ECF6",
          "polar": {
           "angularaxis": {
            "gridcolor": "white",
            "linecolor": "white",
            "ticks": ""
           },
           "bgcolor": "#E5ECF6",
           "radialaxis": {
            "gridcolor": "white",
            "linecolor": "white",
            "ticks": ""
           }
          },
          "scene": {
           "xaxis": {
            "backgroundcolor": "#E5ECF6",
            "gridcolor": "white",
            "gridwidth": 2,
            "linecolor": "white",
            "showbackground": true,
            "ticks": "",
            "zerolinecolor": "white"
           },
           "yaxis": {
            "backgroundcolor": "#E5ECF6",
            "gridcolor": "white",
            "gridwidth": 2,
            "linecolor": "white",
            "showbackground": true,
            "ticks": "",
            "zerolinecolor": "white"
           },
           "zaxis": {
            "backgroundcolor": "#E5ECF6",
            "gridcolor": "white",
            "gridwidth": 2,
            "linecolor": "white",
            "showbackground": true,
            "ticks": "",
            "zerolinecolor": "white"
           }
          },
          "shapedefaults": {
           "line": {
            "color": "#2a3f5f"
           }
          },
          "ternary": {
           "aaxis": {
            "gridcolor": "white",
            "linecolor": "white",
            "ticks": ""
           },
           "baxis": {
            "gridcolor": "white",
            "linecolor": "white",
            "ticks": ""
           },
           "bgcolor": "#E5ECF6",
           "caxis": {
            "gridcolor": "white",
            "linecolor": "white",
            "ticks": ""
           }
          },
          "title": {
           "x": 0.05
          },
          "xaxis": {
           "automargin": true,
           "gridcolor": "white",
           "linecolor": "white",
           "ticks": "",
           "title": {
            "standoff": 15
           },
           "zerolinecolor": "white",
           "zerolinewidth": 2
          },
          "yaxis": {
           "automargin": true,
           "gridcolor": "white",
           "linecolor": "white",
           "ticks": "",
           "title": {
            "standoff": 15
           },
           "zerolinecolor": "white",
           "zerolinewidth": 2
          }
         }
        },
        "title": {
         "text": "Hasil Prediksi Padi"
        },
        "xaxis": {
         "anchor": "y",
         "domain": [
          0,
          1
         ],
         "title": {
          "text": "Tahun"
         }
        },
        "yaxis": {
         "anchor": "x",
         "domain": [
          0,
          1
         ],
         "title": {
          "text": "Produksi"
         }
        }
       }
      }
     },
     "metadata": {},
     "output_type": "display_data"
    }
   ],
   "source": [
    "import plotly.express as px\n",
    "figure = px.line(data, x=\"Tahun\", y=\"Produksi\", title=\"Hasil Prediksi Padi\")\n",
    "figure.show()"
   ]
  },
  {
   "cell_type": "code",
   "execution_count": 63,
   "id": "a30373dc",
   "metadata": {},
   "outputs": [
    {
     "data": {
      "text/plain": [
       "<Figure size 640x480 with 0 Axes>"
      ]
     },
     "metadata": {},
     "output_type": "display_data"
    },
    {
     "data": {
      "image/png": "[encoded data removed]",
      "text/plain": [
       "<Figure size 1500x1000 with 4 Axes>"
      ]
     },
     "metadata": {},
     "output_type": "display_data"
    }
   ],
   "source": [
    "result = seasonal_decompose(data[\"Produksi\"], model='multiplicative', period=30)\n",
    "fig = plt.figure()\n",
    "fig = result.plot()\n",
    "fig.set_size_inches(15,10)"
   ]
  },
  {
   "cell_type": "code",
   "execution_count": 64,
   "id": "8c32be6a",
   "metadata": {},
   "outputs": [
    {
     "data": {
      "text/plain": [
       "<Axes: xlabel='Lag', ylabel='Autocorrelation'>"
      ]
     },
     "execution_count": 64,
     "metadata": {},
     "output_type": "execute_result"
    },
    {
     "data": {
      "image/png": "[encoded data removed]",
      "text/plain": [
       "<Figure size 640x480 with 1 Axes>"
      ]
     },
     "metadata": {},
     "output_type": "display_data"
    }
   ],
   "source": [
    "pd.plotting.autocorrelation_plot(data[\"Produksi\"])"
   ]
  },
  {
   "cell_type": "code",
   "execution_count": 65,
   "id": "e0678578",
   "metadata": {},
   "outputs": [],
   "source": [
    "d = 1 \n",
    "p = 3 "
   ]
  },
  {
   "cell_type": "code",
   "execution_count": 66,
   "id": "9c996e79",
   "metadata": {},
   "outputs": [
    {
     "name": "stdout",
     "output_type": "stream",
     "text": [
      "ADF Statistic: -4.323481255701208\n",
      "p-value: 0.0004044105498573557\n",
      "Data stasioner (tolak H0)\n"
     ]
    }
   ],
   "source": [
    "from statsmodels.tsa.stattools import adfuller\n",
    "\n",
    "adf_result = adfuller(data[\"Produksi\"])\n",
    "print(\"ADF Statistic:\", adf_result[0])\n",
    "print(\"p-value:\", adf_result[1])\n",
    "\n",
    "if adf_result[1] < 0.05:\n",
    "    print(\"Data stasioner (tolak H0)\")\n",
    "else:\n",
    "    print(\"Data tidak stasioner (gagal tolak H0)\")\n"
   ]
  },
  {
   "cell_type": "code",
   "execution_count": 67,
   "id": "62575f4f",
   "metadata": {},
   "outputs": [
    {
     "data": {
      "image/png": "[encoded data removed]",
      "text/plain": [
       "<Figure size 640x480 with 1 Axes>"
      ]
     },
     "execution_count": 67,
     "metadata": {},
     "output_type": "execute_result"
    },
    {
     "data": {
      "image/png": "[encoded data removed]",
      "text/plain": [
       "<Figure size 640x480 with 1 Axes>"
      ]
     },
     "metadata": {},
     "output_type": "display_data"
    }
   ],
   "source": [
    "# mencari nilai q\n",
    "plot_pacf(data[\"Produksi\"], lags = 20)"
   ]
  },
  {
   "cell_type": "code",
   "execution_count": 68,
   "id": "0e85fdce",
   "metadata": {},
   "outputs": [],
   "source": [
    "q= 2"
   ]
  },
  {
   "cell_type": "code",
   "execution_count": 69,
   "id": "b9a53763",
   "metadata": {},
   "outputs": [
    {
     "name": "stderr",
     "output_type": "stream",
     "text": [
      "c:\\Users\\asus\\AppData\\Local\\Programs\\Python\\Python313\\Lib\\site-packages\\statsmodels\\tsa\\statespace\\sarimax.py:966: UserWarning:\n",
      "\n",
      "Non-stationary starting autoregressive parameters found. Using zeros as starting parameters.\n",
      "\n",
      "c:\\Users\\asus\\AppData\\Local\\Programs\\Python\\Python313\\Lib\\site-packages\\statsmodels\\tsa\\statespace\\sarimax.py:978: UserWarning:\n",
      "\n",
      "Non-invertible starting MA parameters found. Using zeros as starting parameters.\n",
      "\n"
     ]
    },
    {
     "name": "stdout",
     "output_type": "stream",
     "text": [
      "                               SARIMAX Results                                \n",
      "==============================================================================\n",
      "Dep. Variable:               Produksi   No. Observations:                  506\n",
      "Model:                 ARIMA(3, 1, 2)   Log Likelihood               -7390.044\n",
      "Date:                Mon, 21 Jul 2025   AIC                          14792.087\n",
      "Time:                        12:16:21   BIC                          14817.434\n",
      "Sample:                             0   HQIC                         14802.029\n",
      "                                - 506                                         \n",
      "Covariance Type:                  opg                                         \n",
      "==============================================================================\n",
      "                 coef    std err          z      P>|z|      [0.025      0.975]\n",
      "------------------------------------------------------------------------------\n",
      "ar.L1         -0.1053      0.053     -1.971      0.049      -0.210      -0.001\n",
      "ar.L2          0.9034      0.026     34.119      0.000       0.852       0.955\n",
      "ar.L3          0.0141      0.051      0.276      0.783      -0.086       0.115\n",
      "ma.L1          0.0104      0.028      0.370      0.711      -0.045       0.066\n",
      "ma.L2         -0.9764      0.019    -51.257      0.000      -1.014      -0.939\n",
      "sigma2      3.106e+11   1.27e-13   2.44e+24      0.000    3.11e+11    3.11e+11\n",
      "===================================================================================\n",
      "Ljung-Box (L1) (Q):                   0.00   Jarque-Bera (JB):              6662.74\n",
      "Prob(Q):                              1.00   Prob(JB):                         0.00\n",
      "Heteroskedasticity (H):               0.58   Skew:                            -0.58\n",
      "Prob(H) (two-sided):                  0.00   Kurtosis:                        20.76\n",
      "===================================================================================\n",
      "\n",
      "Warnings:\n",
      "[1] Covariance matrix calculated using the outer product of gradients (complex-step).\n",
      "[2] Covariance matrix is singular or near-singular, with condition number 9.83e+38. Standard errors may be unstable.\n"
     ]
    }
   ],
   "source": [
    "\n",
    "# Membuat model ARIMA (bukan SARIMA karena data tahunan)\n",
    "model = sm.tsa.ARIMA(data[\"Produksi\"], order=(p,d,q))\n",
    "model = model.fit()\n",
    "\n",
    "print(model.summary())"
   ]
  },
  {
   "cell_type": "code",
   "execution_count": 70,
   "id": "201e8ba3",
   "metadata": {},
   "outputs": [
    {
     "name": "stdout",
     "output_type": "stream",
     "text": [
      "506    1.931853e+06\n",
      "507    1.899622e+06\n",
      "508    1.886170e+06\n",
      "509    1.858196e+06\n",
      "510    1.848533e+06\n",
      "511    1.824088e+06\n",
      "Name: predicted_mean, dtype: float64\n"
     ]
    }
   ],
   "source": [
    "# membuat prediksi\n",
    "predictions = model.predict(len(data), len(data)+5)\n",
    "print(predictions)"
   ]
  },
  {
   "cell_type": "code",
   "execution_count": 71,
   "id": "63e7483e",
   "metadata": {},
   "outputs": [
    {
     "data": {
      "text/plain": [
       "<Axes: >"
      ]
     },
     "execution_count": 71,
     "metadata": {},
     "output_type": "execute_result"
    },
    {
     "data": {
      "image/png": "[encoded data removed]",
      "text/plain": [
       "<Figure size 1500x1000 with 1 Axes>"
      ]
     },
     "metadata": {},
     "output_type": "display_data"
    }
   ],
   "source": [
    "#buat grafik\n",
    "data[\"Produksi\"].plot(legend=True,\n",
    "                      label=\"Training Data\",\n",
    "                      figsize=(15,10))\n",
    "predictions.plot(legend=True,label=\"Predictio\")"
   ]
  },
  {
   "cell_type": "code",
   "execution_count": 72,
   "id": "fdd61fa9",
   "metadata": {},
   "outputs": [
    {
     "name": "stderr",
     "output_type": "stream",
     "text": [
      "C:\\Users\\asus\\AppData\\Local\\Temp\\ipykernel_9680\\4265232154.py:3: FutureWarning:\n",
      "\n",
      "'Y' is deprecated and will be removed in a future version, please use 'YE' instead.\n",
      "\n"
     ]
    }
   ],
   "source": [
    "# Tambahkan index tahun jika diperlukan\n",
    "last_year = data[\"Tahun\"].iloc[-1]\n",
    "future_years = pd.date_range(start=f\"{last_year+1}-12-31\", periods=6, freq='Y')\n",
    "predictions.index = future_years"
   ]
  },
  {
   "cell_type": "code",
   "execution_count": 73,
   "id": "295d11d9",
   "metadata": {},
   "outputs": [
    {
     "data": {
      "image/png": "[encoded data removed]",
      "text/plain": [
       "<Figure size 1500x800 with 1 Axes>"
      ]
     },
     "metadata": {},
     "output_type": "display_data"
    }
   ],
   "source": [
    "# Tampilkan hanya grafik hasil prediksi\n",
    "plt.figure(figsize=(15, 8))\n",
    "plt.plot(predictions, label=\"Hasil Prediksi\", color='orange')\n",
    "plt.title(\"Grafik Hasil Prediksi Produksi Padi\")\n",
    "plt.xlabel(\"Tahun\")\n",
    "plt.ylabel(\"Produksi\")\n",
    "plt.legend()\n",
    "plt.show()\n"
   ]
  },
  {
   "cell_type": "code",
   "execution_count": 74,
   "id": "5461059a",
   "metadata": {},
   "outputs": [],
   "source": [
    "# Misal kita uji 5 tahun terakhir sebagai test set\n",
    "train = data[\"Produksi\"][:-5]\n",
    "test = data[\"Produksi\"][-5:]"
   ]
  },
  {
   "cell_type": "code",
   "execution_count": 75,
   "id": "5c857220",
   "metadata": {},
   "outputs": [
    {
     "name": "stderr",
     "output_type": "stream",
     "text": [
      "c:\\Users\\asus\\AppData\\Local\\Programs\\Python\\Python313\\Lib\\site-packages\\statsmodels\\tsa\\statespace\\sarimax.py:966: UserWarning:\n",
      "\n",
      "Non-stationary starting autoregressive parameters found. Using zeros as starting parameters.\n",
      "\n",
      "c:\\Users\\asus\\AppData\\Local\\Programs\\Python\\Python313\\Lib\\site-packages\\statsmodels\\tsa\\statespace\\sarimax.py:978: UserWarning:\n",
      "\n",
      "Non-invertible starting MA parameters found. Using zeros as starting parameters.\n",
      "\n"
     ]
    }
   ],
   "source": [
    "model = sm.tsa.ARIMA(train, order=(p, d, q))\n",
    "model_fit = model.fit()"
   ]
  },
  {
   "cell_type": "code",
   "execution_count": 76,
   "id": "9e1e5020",
   "metadata": {},
   "outputs": [],
   "source": [
    "predictions = model_fit.forecast(steps=len(test))"
   ]
  },
  {
   "cell_type": "code",
   "execution_count": 77,
   "id": "caef7890",
   "metadata": {},
   "outputs": [
    {
     "name": "stdout",
     "output_type": "stream",
     "text": [
      "      Actual     Predicted\n",
      "501  1934428  1.671894e+06\n",
      "502  1707018  1.679185e+06\n",
      "503  1858374  1.658431e+06\n",
      "504  1912114  1.666961e+06\n",
      "505  1951109  1.647402e+06\n"
     ]
    }
   ],
   "source": [
    "\n",
    "comparison = pd.DataFrame({\n",
    "    'Actual': test.values,\n",
    "    'Predicted': predictions\n",
    "}, index=test.index)\n",
    "\n",
    "print(comparison)\n"
   ]
  },
  {
   "cell_type": "code",
   "execution_count": 78,
   "id": "0cffce4c",
   "metadata": {},
   "outputs": [
    {
     "name": "stdout",
     "output_type": "stream",
     "text": [
      "MAE: 207833.81038871082\n",
      "RMSE: 228916.41776335586\n",
      "MAPE: 10.87%\n"
     ]
    }
   ],
   "source": [
    "from sklearn.metrics import mean_absolute_error, mean_squared_error\n",
    "import numpy as np\n",
    "\n",
    "mae = mean_absolute_error(test, predictions)\n",
    "mse = mean_squared_error(test, predictions)\n",
    "rmse = np.sqrt(mse)\n",
    "mape = np.mean(np.abs((test - predictions) / test)) * 100\n",
    "\n",
    "print(f\"MAE: {mae}\")\n",
    "print(f\"RMSE: {rmse}\")\n",
    "print(f\"MAPE: {mape:.2f}%\")\n"
   ]
  },
  {
   "cell_type": "code",
   "execution_count": 79,
   "id": "a679e4b1",
   "metadata": {},
   "outputs": [],
   "source": [
    "import numpy as np\n",
    "import pandas as pd\n",
    "from sklearn.metrics import mean_absolute_error, mean_squared_error\n",
    "import matplotlib.pyplot as plt"
   ]
  },
  {
   "cell_type": "code",
   "execution_count": 80,
   "id": "48ee1480",
   "metadata": {},
   "outputs": [],
   "source": [
    "# Ambil nilai produksi sebagai array\n",
    "data_series = data['Produksi'].values\n",
    "years = data['Tahun'].values"
   ]
  },
  {
   "cell_type": "code",
   "execution_count": 81,
   "id": "62fbe7b6",
   "metadata": {},
   "outputs": [],
   "source": [
    "# Buat interval fuzzy\n",
    "interval_count = 7\n",
    "min_val, max_val = np.min(data_series), np.max(data_series)\n",
    "interval_length = (max_val - min_val) / interval_count\n",
    "intervals = [(min_val + i * interval_length, min_val + (i + 1) * interval_length) for i in range(interval_count)]\n",
    "\n",
    "def fuzzify(value):\n",
    "    for i, (low, high) in enumerate(intervals):\n",
    "        if low <= value <= high:\n",
    "            return i\n",
    "    return -1\n",
    "\n",
    "fuzzy_data = [fuzzify(val) for val in data_series]"
   ]
  },
  {
   "cell_type": "code",
   "execution_count": 82,
   "id": "44d5d611",
   "metadata": {},
   "outputs": [],
   "source": [
    "# Bangun aturan fuzzy (relasi logika)\n",
    "transition_dict = {}\n",
    "for i in range(len(fuzzy_data) - 1):\n",
    "    key = fuzzy_data[i]\n",
    "    if key not in transition_dict:\n",
    "        transition_dict[key] = []\n",
    "    transition_dict[key].append(data_series[i+1])"
   ]
  },
  {
   "cell_type": "code",
   "execution_count": 83,
   "id": "25f534f7",
   "metadata": {},
   "outputs": [],
   "source": [
    "# Simpan prediksi historis\n",
    "predicted_historic = []\n",
    "for i in range(len(fuzzy_data) - 1):\n",
    "    key = fuzzy_data[i]\n",
    "    if key in transition_dict:\n",
    "        pred = np.mean(transition_dict[key])\n",
    "    else:\n",
    "        pred = np.nan\n",
    "    predicted_historic.append(pred)\n",
    "\n",
    "predicted_historic.insert(0, np.nan)"
   ]
  },
  {
   "cell_type": "code",
   "execution_count": 84,
   "id": "dde6279d",
   "metadata": {},
   "outputs": [],
   "source": [
    "# Prediksi ke depan (5 tahun)\n",
    "# =============================\n",
    "future_years = []\n",
    "future_predictions = []\n",
    "last_known_year = years[-1]\n",
    "last_value = data_series[-1]"
   ]
  },
  {
   "cell_type": "code",
   "execution_count": null,
   "id": "8ccdda1d",
   "metadata": {},
   "outputs": [],
   "source": [
    "# Ambil data dan konversi ke list agar bisa .append()\n",
    "data_series = data['Produksi'].tolist()\n",
    "years = data['Tahun'].tolist()"
   ]
  },
  {
   "cell_type": "code",
   "execution_count": null,
   "id": "89aff6d8",
   "metadata": {},
   "outputs": [],
   "source": [
    "# Fuzzifikasi dasar\n",
    "interval_count = 7\n",
    "min_val, max_val = min(data_series), max(data_series)\n",
    "interval_length = (max_val - min_val) / interval_count\n",
    "intervals = [(min_val + i * interval_length, min_val + (i + 1) * interval_length) for i in range(interval_count)]\n",
    "\n",
    "def fuzzify(value):\n",
    "    for i, (low, high) in enumerate(intervals):\n",
    "        if low <= value <= high:\n",
    "            return i\n",
    "    return -1\n",
    "fuzzy_data = [fuzzify(val) for val in data_series]"
   ]
  },
  {
   "cell_type": "code",
   "execution_count": null,
   "id": "63244bd3",
   "metadata": {},
   "outputs": [],
   "source": [
    "# Relasi fuzzy\n",
    "transition_dict = {}\n",
    "for i in range(len(fuzzy_data) - 1):\n",
    "    key = fuzzy_data[i]\n",
    "    if key not in transition_dict:\n",
    "        transition_dict[key] = []\n",
    "    transition_dict[key].append(data_series[i+1])"
   ]
  },
  {
   "cell_type": "code",
   "execution_count": null,
   "id": "11f86559",
   "metadata": {},
   "outputs": [],
   "source": [
    "# Prediksi (1 langkah)\n",
    "predicted = []\n",
    "for i in range(len(fuzzy_data) - 1):\n",
    "    key = fuzzy_data[i]\n",
    "    if key in transition_dict:\n",
    "        pred = np.mean(transition_dict[key])\n",
    "    else:\n",
    "        pred = np.nan\n",
    "    predicted.append(pred)\n",
    "predicted.insert(0, np.nan)"
   ]
  },
  {
   "cell_type": "code",
   "execution_count": null,
   "id": "fe76a6ef",
   "metadata": {},
   "outputs": [],
   "source": [
    "for i in range(1, 6):  # 5 tahun ke depan\n",
    "    fuzzy_label = fuzzify(last_value)\n",
    "    if fuzzy_label in transition_dict:\n",
    "        pred = np.mean(transition_dict[fuzzy_label])\n",
    "    else:\n",
    "        pred = last_value  # fallback\n",
    "\n",
    "    data_series.append(pred)  # perpanjang data\n",
    "    years.append(last_known_year + i)\n",
    "    future_predictions.append(pred)\n",
    "    last_value = pred  # update untuk iterasi berikutnya"
   ]
  },
  {
   "cell_type": "code",
   "execution_count": 94,
   "id": "cb2dce35",
   "metadata": {},
   "outputs": [
    {
     "name": "stderr",
     "output_type": "stream",
     "text": [
      "C:\\Users\\asus\\AppData\\Local\\Temp\\ipykernel_9680\\938598528.py:19: FutureWarning:\n",
      "\n",
      "The behavior of DataFrame concatenation with empty or all-NA entries is deprecated. In a future version, this will no longer exclude empty or all-NA columns when determining the result dtypes. To retain the old behavior, exclude the relevant entries before the concat operation.\n",
      "\n"
     ]
    }
   ],
   "source": [
    "# Buat future_years berdasarkan tahun terakhir\n",
    "future_years = list(range(years[-1] + 1, years[-1] + 1 + len(predicted)))\n",
    "\n",
    "# Data historis\n",
    "df_hist = pd.DataFrame({\n",
    "    'Tahun': years,\n",
    "    'Aktual': data_series,\n",
    "    'Prediksi_FTS': [None] * len(data_series)\n",
    "})\n",
    "\n",
    "# Data prediksi\n",
    "df_pred = pd.DataFrame({\n",
    "    'Tahun': future_years,\n",
    "    'Aktual': [None] * len(predicted),\n",
    "    'Prediksi_FTS': predicted\n",
    "})\n",
    "\n",
    "# Gabungkan keduanya\n",
    "df_all = pd.concat([df_hist, df_pred], ignore_index=True)"
   ]
  },
  {
   "cell_type": "code",
   "execution_count": 93,
   "id": "055bf655",
   "metadata": {},
   "outputs": [
    {
     "ename": "ValueError",
     "evalue": "All arrays must be of the same length",
     "output_type": "error",
     "traceback": [
      "\u001b[1;31m---------------------------------------------------------------------------\u001b[0m",
      "\u001b[1;31mValueError\u001b[0m                                Traceback (most recent call last)",
      "Cell \u001b[1;32mIn[93], line 2\u001b[0m\n\u001b[0;32m      1\u001b[0m \u001b[38;5;66;03m# Data historis + prediksi\u001b[39;00m\n\u001b[1;32m----> 2\u001b[0m df_all \u001b[38;5;241m=\u001b[39m \u001b[43mpd\u001b[49m\u001b[38;5;241;43m.\u001b[39;49m\u001b[43mDataFrame\u001b[49m\u001b[43m(\u001b[49m\u001b[43m{\u001b[49m\n\u001b[0;32m      3\u001b[0m \u001b[43m    \u001b[49m\u001b[38;5;124;43m'\u001b[39;49m\u001b[38;5;124;43mTahun\u001b[39;49m\u001b[38;5;124;43m'\u001b[39;49m\u001b[43m:\u001b[49m\u001b[43m \u001b[49m\u001b[43myears\u001b[49m\u001b[43m,\u001b[49m\n\u001b[0;32m      4\u001b[0m \u001b[43m    \u001b[49m\u001b[38;5;124;43m'\u001b[39;49m\u001b[38;5;124;43mAktual\u001b[39;49m\u001b[38;5;124;43m'\u001b[39;49m\u001b[43m:\u001b[49m\u001b[43m \u001b[49m\u001b[43mdata_series\u001b[49m\u001b[43m,\u001b[49m\n\u001b[0;32m      5\u001b[0m \u001b[43m    \u001b[49m\u001b[38;5;124;43m'\u001b[39;49m\u001b[38;5;124;43mPrediksi_FTS\u001b[39;49m\u001b[38;5;124;43m'\u001b[39;49m\u001b[43m:\u001b[49m\u001b[43m \u001b[49m\u001b[43mpredicted\u001b[49m\n\u001b[0;32m      6\u001b[0m \u001b[43m}\u001b[49m\u001b[43m)\u001b[49m\n",
      "File \u001b[1;32mc:\\Users\\asus\\AppData\\Local\\Programs\\Python\\Python313\\Lib\\site-packages\\pandas\\core\\frame.py:778\u001b[0m, in \u001b[0;36mDataFrame.__init__\u001b[1;34m(self, data, index, columns, dtype, copy)\u001b[0m\n\u001b[0;32m    772\u001b[0m     mgr \u001b[38;5;241m=\u001b[39m \u001b[38;5;28mself\u001b[39m\u001b[38;5;241m.\u001b[39m_init_mgr(\n\u001b[0;32m    773\u001b[0m         data, axes\u001b[38;5;241m=\u001b[39m{\u001b[38;5;124m\"\u001b[39m\u001b[38;5;124mindex\u001b[39m\u001b[38;5;124m\"\u001b[39m: index, \u001b[38;5;124m\"\u001b[39m\u001b[38;5;124mcolumns\u001b[39m\u001b[38;5;124m\"\u001b[39m: columns}, dtype\u001b[38;5;241m=\u001b[39mdtype, copy\u001b[38;5;241m=\u001b[39mcopy\n\u001b[0;32m    774\u001b[0m     )\n\u001b[0;32m    776\u001b[0m \u001b[38;5;28;01melif\u001b[39;00m \u001b[38;5;28misinstance\u001b[39m(data, \u001b[38;5;28mdict\u001b[39m):\n\u001b[0;32m    777\u001b[0m     \u001b[38;5;66;03m# GH#38939 de facto copy defaults to False only in non-dict cases\u001b[39;00m\n\u001b[1;32m--> 778\u001b[0m     mgr \u001b[38;5;241m=\u001b[39m \u001b[43mdict_to_mgr\u001b[49m\u001b[43m(\u001b[49m\u001b[43mdata\u001b[49m\u001b[43m,\u001b[49m\u001b[43m \u001b[49m\u001b[43mindex\u001b[49m\u001b[43m,\u001b[49m\u001b[43m \u001b[49m\u001b[43mcolumns\u001b[49m\u001b[43m,\u001b[49m\u001b[43m \u001b[49m\u001b[43mdtype\u001b[49m\u001b[38;5;241;43m=\u001b[39;49m\u001b[43mdtype\u001b[49m\u001b[43m,\u001b[49m\u001b[43m \u001b[49m\u001b[43mcopy\u001b[49m\u001b[38;5;241;43m=\u001b[39;49m\u001b[43mcopy\u001b[49m\u001b[43m,\u001b[49m\u001b[43m \u001b[49m\u001b[43mtyp\u001b[49m\u001b[38;5;241;43m=\u001b[39;49m\u001b[43mmanager\u001b[49m\u001b[43m)\u001b[49m\n\u001b[0;32m    779\u001b[0m \u001b[38;5;28;01melif\u001b[39;00m \u001b[38;5;28misinstance\u001b[39m(data, ma\u001b[38;5;241m.\u001b[39mMaskedArray):\n\u001b[0;32m    780\u001b[0m     \u001b[38;5;28;01mfrom\u001b[39;00m \u001b[38;5;21;01mnumpy\u001b[39;00m\u001b[38;5;21;01m.\u001b[39;00m\u001b[38;5;21;01mma\u001b[39;00m \u001b[38;5;28;01mimport\u001b[39;00m mrecords\n",
      "File \u001b[1;32mc:\\Users\\asus\\AppData\\Local\\Programs\\Python\\Python313\\Lib\\site-packages\\pandas\\core\\internals\\construction.py:503\u001b[0m, in \u001b[0;36mdict_to_mgr\u001b[1;34m(data, index, columns, dtype, typ, copy)\u001b[0m\n\u001b[0;32m    499\u001b[0m     \u001b[38;5;28;01melse\u001b[39;00m:\n\u001b[0;32m    500\u001b[0m         \u001b[38;5;66;03m# dtype check to exclude e.g. range objects, scalars\u001b[39;00m\n\u001b[0;32m    501\u001b[0m         arrays \u001b[38;5;241m=\u001b[39m [x\u001b[38;5;241m.\u001b[39mcopy() \u001b[38;5;28;01mif\u001b[39;00m \u001b[38;5;28mhasattr\u001b[39m(x, \u001b[38;5;124m\"\u001b[39m\u001b[38;5;124mdtype\u001b[39m\u001b[38;5;124m\"\u001b[39m) \u001b[38;5;28;01melse\u001b[39;00m x \u001b[38;5;28;01mfor\u001b[39;00m x \u001b[38;5;129;01min\u001b[39;00m arrays]\n\u001b[1;32m--> 503\u001b[0m \u001b[38;5;28;01mreturn\u001b[39;00m \u001b[43marrays_to_mgr\u001b[49m\u001b[43m(\u001b[49m\u001b[43marrays\u001b[49m\u001b[43m,\u001b[49m\u001b[43m \u001b[49m\u001b[43mcolumns\u001b[49m\u001b[43m,\u001b[49m\u001b[43m \u001b[49m\u001b[43mindex\u001b[49m\u001b[43m,\u001b[49m\u001b[43m \u001b[49m\u001b[43mdtype\u001b[49m\u001b[38;5;241;43m=\u001b[39;49m\u001b[43mdtype\u001b[49m\u001b[43m,\u001b[49m\u001b[43m \u001b[49m\u001b[43mtyp\u001b[49m\u001b[38;5;241;43m=\u001b[39;49m\u001b[43mtyp\u001b[49m\u001b[43m,\u001b[49m\u001b[43m \u001b[49m\u001b[43mconsolidate\u001b[49m\u001b[38;5;241;43m=\u001b[39;49m\u001b[43mcopy\u001b[49m\u001b[43m)\u001b[49m\n",
      "File \u001b[1;32mc:\\Users\\asus\\AppData\\Local\\Programs\\Python\\Python313\\Lib\\site-packages\\pandas\\core\\internals\\construction.py:114\u001b[0m, in \u001b[0;36marrays_to_mgr\u001b[1;34m(arrays, columns, index, dtype, verify_integrity, typ, consolidate)\u001b[0m\n\u001b[0;32m    111\u001b[0m \u001b[38;5;28;01mif\u001b[39;00m verify_integrity:\n\u001b[0;32m    112\u001b[0m     \u001b[38;5;66;03m# figure out the index, if necessary\u001b[39;00m\n\u001b[0;32m    113\u001b[0m     \u001b[38;5;28;01mif\u001b[39;00m index \u001b[38;5;129;01mis\u001b[39;00m \u001b[38;5;28;01mNone\u001b[39;00m:\n\u001b[1;32m--> 114\u001b[0m         index \u001b[38;5;241m=\u001b[39m \u001b[43m_extract_index\u001b[49m\u001b[43m(\u001b[49m\u001b[43marrays\u001b[49m\u001b[43m)\u001b[49m\n\u001b[0;32m    115\u001b[0m     \u001b[38;5;28;01melse\u001b[39;00m:\n\u001b[0;32m    116\u001b[0m         index \u001b[38;5;241m=\u001b[39m ensure_index(index)\n",
      "File \u001b[1;32mc:\\Users\\asus\\AppData\\Local\\Programs\\Python\\Python313\\Lib\\site-packages\\pandas\\core\\internals\\construction.py:677\u001b[0m, in \u001b[0;36m_extract_index\u001b[1;34m(data)\u001b[0m\n\u001b[0;32m    675\u001b[0m lengths \u001b[38;5;241m=\u001b[39m \u001b[38;5;28mlist\u001b[39m(\u001b[38;5;28mset\u001b[39m(raw_lengths))\n\u001b[0;32m    676\u001b[0m \u001b[38;5;28;01mif\u001b[39;00m \u001b[38;5;28mlen\u001b[39m(lengths) \u001b[38;5;241m>\u001b[39m \u001b[38;5;241m1\u001b[39m:\n\u001b[1;32m--> 677\u001b[0m     \u001b[38;5;28;01mraise\u001b[39;00m \u001b[38;5;167;01mValueError\u001b[39;00m(\u001b[38;5;124m\"\u001b[39m\u001b[38;5;124mAll arrays must be of the same length\u001b[39m\u001b[38;5;124m\"\u001b[39m)\n\u001b[0;32m    679\u001b[0m \u001b[38;5;28;01mif\u001b[39;00m have_dicts:\n\u001b[0;32m    680\u001b[0m     \u001b[38;5;28;01mraise\u001b[39;00m \u001b[38;5;167;01mValueError\u001b[39;00m(\n\u001b[0;32m    681\u001b[0m         \u001b[38;5;124m\"\u001b[39m\u001b[38;5;124mMixing dicts with non-Series may lead to ambiguous ordering.\u001b[39m\u001b[38;5;124m\"\u001b[39m\n\u001b[0;32m    682\u001b[0m     )\n",
      "\u001b[1;31mValueError\u001b[0m: All arrays must be of the same length"
     ]
    }
   ],
   "source": [
    "# Data historis + prediksi\n",
    "df_all = pd.DataFrame({\n",
    "    'Tahun': years,\n",
    "    'Aktual': data_series,\n",
    "    'Prediksi_FTS': predicted\n",
    "})"
   ]
  },
  {
   "cell_type": "code",
   "execution_count": 96,
   "id": "fbeb2166",
   "metadata": {},
   "outputs": [],
   "source": [
    "# Tandai prediksi masa depan\n",
    "df_all['Keterangan'] = ['Aktual'] * (len(df_all) - 5) + ['Prediksi'] * 5"
   ]
  },
  {
   "cell_type": "code",
   "execution_count": 97,
   "id": "3bd0d945",
   "metadata": {},
   "outputs": [
    {
     "name": "stdout",
     "output_type": "stream",
     "text": [
      "=== Evaluasi Fuzzy Time Series ===\n",
      "MAE  : 207833.81\n",
      "RMSE : 228916.42\n",
      "MAPE : 10.87%\n"
     ]
    }
   ],
   "source": [
    "print(\"=== Evaluasi Fuzzy Time Series ===\")\n",
    "print(f\"MAE  : {mae:.2f}\")\n",
    "print(f\"RMSE : {rmse:.2f}\")\n",
    "print(f\"MAPE : {mape:.2f}%\")"
   ]
  },
  {
   "cell_type": "code",
   "execution_count": null,
   "id": "c6e0dd4f",
   "metadata": {},
   "outputs": [],
   "source": [
    "import numpy as np\n",
    "import pandas as pd\n",
    "from sklearn.metrics import mean_absolute_error, mean_squared_error\n",
    "import matplotlib.pyplot as plt\n",
    "from statsmodels.tsa.holtwinters import ExponentialSmoothing"
   ]
  },
  {
   "cell_type": "code",
   "execution_count": null,
   "id": "8ae06150",
   "metadata": {},
   "outputs": [],
   "source": [
    "# Split data\n",
    "split = int(len(data) * 0.8)\n",
    "train = data['Produksi'].iloc[:split]\n",
    "test = data['Produksi'].iloc[split:]\n",
    "years = data['Tahun'].values"
   ]
  },
  {
   "cell_type": "code",
   "execution_count": null,
   "id": "87006025",
   "metadata": {},
   "outputs": [
    {
     "name": "stderr",
     "output_type": "stream",
     "text": [
      "c:\\Users\\asus\\AppData\\Local\\Programs\\Python\\Python313\\Lib\\site-packages\\statsmodels\\tsa\\holtwinters\\model.py:918: ConvergenceWarning:\n",
      "\n",
      "Optimization failed to converge. Check mle_retvals.\n",
      "\n"
     ]
    }
   ],
   "source": [
    "# Buat model Holt-Winters (Triple Exponential Smoothing)\n",
    "model = ExponentialSmoothing(train,\n",
    "                              trend='add',\n",
    "                              seasonal=None,     # None untuk data tahunan (tanpa musiman)\n",
    "                              seasonal_periods=1)  # tetap perlu nilai > 1, tapi abaikan karena seasonal=None\n",
    "\n",
    "fit_model = model.fit()"
   ]
  },
  {
   "cell_type": "code",
   "execution_count": null,
   "id": "06a70eb2",
   "metadata": {},
   "outputs": [],
   "source": [
    "# Prediksi\n",
    "forecast = fit_model.forecast(len(test))"
   ]
  },
  {
   "cell_type": "code",
   "execution_count": null,
   "id": "f36a53b2",
   "metadata": {},
   "outputs": [],
   "source": [
    "# Evaluasi\n",
    "mae = mean_absolute_error(test, forecast)\n",
    "rmse = np.sqrt(mean_squared_error(test, forecast))\n",
    "mape = np.mean(np.abs((test - forecast) / test)) * 100"
   ]
  },
  {
   "cell_type": "code",
   "execution_count": null,
   "id": "2da02338",
   "metadata": {},
   "outputs": [
    {
     "name": "stdout",
     "output_type": "stream",
     "text": [
      "=== Evaluasi Triple Exponential Smoothing (TES) ===\n",
      "MAE  : 2130339.84\n",
      "RMSE : 2323000.53\n",
      "MAPE : 291.79%\n"
     ]
    }
   ],
   "source": [
    "print(\"=== Evaluasi Triple Exponential Smoothing (TES) ===\")\n",
    "print(f\"MAE  : {mae:.2f}\")\n",
    "print(f\"RMSE : {rmse:.2f}\")\n",
    "print(f\"MAPE : {mape:.2f}%\")"
   ]
  },
  {
   "cell_type": "code",
   "execution_count": null,
   "id": "30a20bbb",
   "metadata": {},
   "outputs": [],
   "source": [
    "import numpy as np\n",
    "import pandas as pd\n",
    "from sklearn.metrics import mean_absolute_error, mean_squared_error\n",
    "import matplotlib.pyplot as plt"
   ]
  },
  {
   "cell_type": "code",
   "execution_count": null,
   "id": "d4ce2802",
   "metadata": {},
   "outputs": [],
   "source": [
    "# Konversi ke list agar bisa digunakan untuk prediksi ke depan\n",
    "produksi = data['Produksi'].tolist()\n",
    "tahun = data['Tahun'].tolist()"
   ]
  },
  {
   "cell_type": "code",
   "execution_count": null,
   "id": "22996466",
   "metadata": {},
   "outputs": [],
   "source": [
    "# Tentukan window ukuran SMA\n",
    "window = 3  # misalnya 3 tahun terakhir"
   ]
  },
  {
   "cell_type": "code",
   "execution_count": null,
   "id": "02f067db",
   "metadata": {},
   "outputs": [],
   "source": [
    "# Prediksi 5 tahun ke depan secara iteratif\n",
    "future_preds = []\n",
    "last_values = produksi.copy()\n",
    "\n",
    "for i in range(1, 6):  # 5 tahun ke depan\n",
    "    if len(last_values) >= window:\n",
    "        pred = np.mean(last_values[-window:])\n",
    "    else:\n",
    "        pred = np.mean(last_values)\n",
    "    \n",
    "    future_preds.append(pred)\n",
    "    last_values.append(pred)\n",
    "    tahun.append(tahun[-1] + 1)"
   ]
  },
  {
   "cell_type": "code",
   "execution_count": null,
   "id": "44132084",
   "metadata": {},
   "outputs": [
    {
     "name": "stdout",
     "output_type": "stream",
     "text": [
      "=== Prediksi 5 Tahun ke Depan - Simple Moving Average ===\n",
      "   Tahun  Prediksi_SMA\n",
      "0   2026  1.907199e+06\n",
      "1   2027  1.923474e+06\n",
      "2   2028  1.927261e+06\n",
      "3   2029  1.919311e+06\n",
      "4   2030  1.923349e+06\n"
     ]
    }
   ],
   "source": [
    "# Buat DataFrame hasil\n",
    "future_df = pd.DataFrame({\n",
    "    'Tahun': tahun[-5:], \n",
    "    'Prediksi_SMA': future_preds\n",
    "})\n",
    "\n",
    "print(\"=== Prediksi 5 Tahun ke Depan - Simple Moving Average ===\")\n",
    "print(future_df)"
   ]
  },
  {
   "cell_type": "code",
   "execution_count": null,
   "id": "29a070f5",
   "metadata": {},
   "outputs": [],
   "source": [
    "# Hitung Simple Moving Average\n",
    "sma_forecast = pd.Series(produksi).rolling(window=window).mean().shift(1)"
   ]
  },
  {
   "cell_type": "code",
   "execution_count": null,
   "id": "cef11d5c",
   "metadata": {},
   "outputs": [],
   "source": [
    "# Hapus nilai NaN (yang tidak bisa diprediksi karena belum cukup window)\n",
    "valid_idx = ~sma_forecast.isna()\n",
    "actual = produksi[valid_idx]\n",
    "predicted = sma_forecast[valid_idx].values\n",
    "tahun_valid = tahun[valid_idx]"
   ]
  },
  {
   "cell_type": "code",
   "execution_count": null,
   "id": "f9e4bd8d",
   "metadata": {},
   "outputs": [
    {
     "name": "stdout",
     "output_type": "stream",
     "text": [
      "=== Evaluasi Simple Moving Average (window = 3 ) ===\n",
      "MAE  : 363095.06\n",
      "RMSE : 657052.47\n",
      "MAPE : 21.56%\n"
     ]
    }
   ],
   "source": [
    "# Evaluasi\n",
    "mae = mean_absolute_error(actual, predicted)\n",
    "rmse = np.sqrt(mean_squared_error(actual, predicted))\n",
    "mape = np.mean(np.abs((actual - predicted) / actual)) * 100\n",
    "\n",
    "print(\"=== Evaluasi Simple Moving Average (window =\", window, \") ===\")\n",
    "print(f\"MAE  : {mae:.2f}\")\n",
    "print(f\"RMSE : {rmse:.2f}\")\n",
    "print(f\"MAPE : {mape:.2f}%\")"
   ]
  }
 ],
 "metadata": {
  "kernelspec": {
   "display_name": "Python 3",
   "language": "python",
   "name": "python3"
  },
  "language_info": {
   "codemirror_mode": {
    "name": "ipython",
    "version": 3
   },
   "file_extension": ".py",
   "mimetype": "text/x-python",
   "name": "python",
   "nbconvert_exporter": "python",
   "pygments_lexer": "ipython3",
   "version": "3.13.0"
  }
 },
 "nbformat": 4,
 "nbformat_minor": 5
}
